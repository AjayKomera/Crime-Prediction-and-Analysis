{
 "cells": [
  {
   "cell_type": "code",
   "execution_count": 11,
   "id": "71d0107b",
   "metadata": {},
   "outputs": [
    {
     "ename": "AttributeError",
     "evalue": "module 'matplotlib' has no attribute 'get_data_path'",
     "output_type": "error",
     "traceback": [
      "\u001b[1;31m---------------------------------------------------------------------------\u001b[0m",
      "\u001b[1;31mAttributeError\u001b[0m                            Traceback (most recent call last)",
      "Cell \u001b[1;32mIn[11], line 4\u001b[0m\n\u001b[0;32m      2\u001b[0m \u001b[38;5;28;01mimport\u001b[39;00m \u001b[38;5;21;01mpandas\u001b[39;00m \u001b[38;5;28;01mas\u001b[39;00m \u001b[38;5;21;01mpd\u001b[39;00m\n\u001b[0;32m      3\u001b[0m \u001b[38;5;28;01mfrom\u001b[39;00m \u001b[38;5;21;01msklearn\u001b[39;00m\u001b[38;5;21;01m.\u001b[39;00m\u001b[38;5;21;01mpreprocessing\u001b[39;00m \u001b[38;5;28;01mimport\u001b[39;00m MinMaxScaler\n\u001b[1;32m----> 4\u001b[0m \u001b[38;5;28;01mimport\u001b[39;00m \u001b[38;5;21;01mseaborn\u001b[39;00m \u001b[38;5;28;01mas\u001b[39;00m \u001b[38;5;21;01msns\u001b[39;00m\n\u001b[0;32m      5\u001b[0m \u001b[38;5;28;01mimport\u001b[39;00m \u001b[38;5;21;01mnumpy\u001b[39;00m \u001b[38;5;28;01mas\u001b[39;00m \u001b[38;5;21;01mnp\u001b[39;00m\n\u001b[0;32m      6\u001b[0m \u001b[38;5;28;01mimport\u001b[39;00m \u001b[38;5;21;01mpillow\u001b[39;00m \u001b[38;5;28;01mas\u001b[39;00m \u001b[38;5;21;01mPIL\u001b[39;00m\n",
      "File \u001b[1;32m~\\AppData\\Local\\Programs\\Python\\Python311\\Lib\\site-packages\\seaborn\\__init__.py:2\u001b[0m\n\u001b[0;32m      1\u001b[0m \u001b[38;5;66;03m# Import seaborn objects\u001b[39;00m\n\u001b[1;32m----> 2\u001b[0m \u001b[38;5;28;01mfrom\u001b[39;00m \u001b[38;5;21;01m.\u001b[39;00m\u001b[38;5;21;01mrcmod\u001b[39;00m \u001b[38;5;28;01mimport\u001b[39;00m \u001b[38;5;241m*\u001b[39m  \u001b[38;5;66;03m# noqa: F401,F403\u001b[39;00m\n\u001b[0;32m      3\u001b[0m \u001b[38;5;28;01mfrom\u001b[39;00m \u001b[38;5;21;01m.\u001b[39;00m\u001b[38;5;21;01mutils\u001b[39;00m \u001b[38;5;28;01mimport\u001b[39;00m \u001b[38;5;241m*\u001b[39m  \u001b[38;5;66;03m# noqa: F401,F403\u001b[39;00m\n\u001b[0;32m      4\u001b[0m \u001b[38;5;28;01mfrom\u001b[39;00m \u001b[38;5;21;01m.\u001b[39;00m\u001b[38;5;21;01mpalettes\u001b[39;00m \u001b[38;5;28;01mimport\u001b[39;00m \u001b[38;5;241m*\u001b[39m  \u001b[38;5;66;03m# noqa: F401,F403\u001b[39;00m\n",
      "File \u001b[1;32m~\\AppData\\Local\\Programs\\Python\\Python311\\Lib\\site-packages\\seaborn\\rcmod.py:3\u001b[0m\n\u001b[0;32m      1\u001b[0m \u001b[38;5;124;03m\"\"\"Control plot style and scaling using the matplotlib rcParams interface.\"\"\"\u001b[39;00m\n\u001b[0;32m      2\u001b[0m \u001b[38;5;28;01mimport\u001b[39;00m \u001b[38;5;21;01mfunctools\u001b[39;00m\n\u001b[1;32m----> 3\u001b[0m \u001b[38;5;28;01mimport\u001b[39;00m \u001b[38;5;21;01mmatplotlib\u001b[39;00m \u001b[38;5;28;01mas\u001b[39;00m \u001b[38;5;21;01mmpl\u001b[39;00m\n\u001b[0;32m      4\u001b[0m \u001b[38;5;28;01mfrom\u001b[39;00m \u001b[38;5;21;01mcycler\u001b[39;00m \u001b[38;5;28;01mimport\u001b[39;00m cycler\n\u001b[0;32m      5\u001b[0m \u001b[38;5;28;01mfrom\u001b[39;00m \u001b[38;5;21;01m.\u001b[39;00m \u001b[38;5;28;01mimport\u001b[39;00m palettes\n",
      "File \u001b[1;32m~\\AppData\\Local\\Programs\\Python\\Python311\\Lib\\site-packages\\matplotlib\\__init__.py:965\u001b[0m\n\u001b[0;32m    958\u001b[0m     \u001b[38;5;28;01mreturn\u001b[39;00m config\n\u001b[0;32m    961\u001b[0m \u001b[38;5;66;03m# When constructing the global instances, we need to perform certain updates\u001b[39;00m\n\u001b[0;32m    962\u001b[0m \u001b[38;5;66;03m# by explicitly calling the superclass (dict.update, dict.items) to avoid\u001b[39;00m\n\u001b[0;32m    963\u001b[0m \u001b[38;5;66;03m# triggering resolution of _auto_backend_sentinel.\u001b[39;00m\n\u001b[0;32m    964\u001b[0m rcParamsDefault \u001b[38;5;241m=\u001b[39m _rc_params_in_file(\n\u001b[1;32m--> 965\u001b[0m     \u001b[43mcbook\u001b[49m\u001b[38;5;241;43m.\u001b[39;49m\u001b[43m_get_data_path\u001b[49m\u001b[43m(\u001b[49m\u001b[38;5;124;43m\"\u001b[39;49m\u001b[38;5;124;43mmatplotlibrc\u001b[39;49m\u001b[38;5;124;43m\"\u001b[39;49m\u001b[43m)\u001b[49m,\n\u001b[0;32m    966\u001b[0m     \u001b[38;5;66;03m# Strip leading comment.\u001b[39;00m\n\u001b[0;32m    967\u001b[0m     transform\u001b[38;5;241m=\u001b[39m\u001b[38;5;28;01mlambda\u001b[39;00m line: line[\u001b[38;5;241m1\u001b[39m:] \u001b[38;5;28;01mif\u001b[39;00m line\u001b[38;5;241m.\u001b[39mstartswith(\u001b[38;5;124m\"\u001b[39m\u001b[38;5;124m#\u001b[39m\u001b[38;5;124m\"\u001b[39m) \u001b[38;5;28;01melse\u001b[39;00m line,\n\u001b[0;32m    968\u001b[0m     fail_on_error\u001b[38;5;241m=\u001b[39m\u001b[38;5;28;01mTrue\u001b[39;00m)\n\u001b[0;32m    969\u001b[0m \u001b[38;5;28mdict\u001b[39m\u001b[38;5;241m.\u001b[39mupdate(rcParamsDefault, rcsetup\u001b[38;5;241m.\u001b[39m_hardcoded_defaults)\n\u001b[0;32m    970\u001b[0m \u001b[38;5;66;03m# Normally, the default matplotlibrc file contains *no* entry for backend (the\u001b[39;00m\n\u001b[0;32m    971\u001b[0m \u001b[38;5;66;03m# corresponding line starts with ##, not #; we fill on _auto_backend_sentinel\u001b[39;00m\n\u001b[0;32m    972\u001b[0m \u001b[38;5;66;03m# in that case.  However, packagers can set a different default backend\u001b[39;00m\n\u001b[0;32m    973\u001b[0m \u001b[38;5;66;03m# (resulting in a normal `#backend: foo` line) in which case we should *not*\u001b[39;00m\n\u001b[0;32m    974\u001b[0m \u001b[38;5;66;03m# fill in _auto_backend_sentinel.\u001b[39;00m\n",
      "File \u001b[1;32m~\\AppData\\Local\\Programs\\Python\\Python311\\Lib\\site-packages\\matplotlib\\cbook\\__init__.py:556\u001b[0m, in \u001b[0;36m_get_data_path\u001b[1;34m(*args)\u001b[0m\n\u001b[0;32m    550\u001b[0m \u001b[38;5;28;01mdef\u001b[39;00m \u001b[38;5;21m_get_data_path\u001b[39m(\u001b[38;5;241m*\u001b[39margs):\n\u001b[0;32m    551\u001b[0m \u001b[38;5;250m    \u001b[39m\u001b[38;5;124;03m\"\"\"\u001b[39;00m\n\u001b[0;32m    552\u001b[0m \u001b[38;5;124;03m    Return the `pathlib.Path` to a resource file provided by Matplotlib.\u001b[39;00m\n\u001b[0;32m    553\u001b[0m \n\u001b[0;32m    554\u001b[0m \u001b[38;5;124;03m    ``*args`` specify a path relative to the base data path.\u001b[39;00m\n\u001b[0;32m    555\u001b[0m \u001b[38;5;124;03m    \"\"\"\u001b[39;00m\n\u001b[1;32m--> 556\u001b[0m     \u001b[38;5;28;01mreturn\u001b[39;00m Path(\u001b[43mmatplotlib\u001b[49m\u001b[38;5;241;43m.\u001b[39;49m\u001b[43mget_data_path\u001b[49m(), \u001b[38;5;241m*\u001b[39margs)\n",
      "\u001b[1;31mAttributeError\u001b[0m: module 'matplotlib' has no attribute 'get_data_path'"
     ]
    }
   ],
   "source": [
    "from sklearn.cluster import KMeans\n",
    "import pandas as pd\n",
    "from sklearn.preprocessing import MinMaxScaler\n",
    "import seaborn as sns\n",
    "import numpy as np\n",
    "import pillow as PIL\n",
    "from matplotlib import pyplot as plt\n",
    "%matplotlib inline"
   ]
  },
  {
   "cell_type": "code",
   "execution_count": 7,
   "id": "d585803d",
   "metadata": {},
   "outputs": [],
   "source": [
    "df=pd.read_excel(r'DataFinal17-20.xlsx',sheet_name='2020')\n",
    "df2=df.iloc[:,2:16]\n",
    "data=df.iloc[:,1:23]\n",
    "data=data.drop(['Total','Crime Rate','Sex Ratio','Literacy','Density','Latitude','Longitude'], axis=1)\n",
    "df2=df2.drop(['Total'], axis=1)\n",
    "df2.head()\n",
    "from sklearn import preprocessing\n",
    "df_standardized = preprocessing.scale( df2 )\n",
    "df1 = pd.DataFrame( df_standardized )\n"
   ]
  },
  {
   "cell_type": "code",
   "execution_count": null,
   "id": "027faee7",
   "metadata": {},
   "outputs": [],
   "source": [
    "data.head()"
   ]
  },
  {
   "cell_type": "code",
   "execution_count": null,
   "id": "c98a3819",
   "metadata": {},
   "outputs": [],
   "source": [
    "#Elbow Method\n",
    "from sklearn.cluster import KMeans\n",
    "\n",
    "#create a list for the wcss parameter\n",
    "wcss = []\n",
    "#test with 14 clusters\n",
    "for i in range(1, 15):\n",
    "    kmeans = KMeans(n_clusters = i, init = 'k-means++', random_state = 0)\n",
    "    kmeans.fit(df1)\n",
    "    wcss.append(kmeans.inertia_)"
   ]
  },
  {
   "cell_type": "code",
   "execution_count": null,
   "id": "6ee64916",
   "metadata": {},
   "outputs": [],
   "source": [
    "wcss"
   ]
  },
  {
   "cell_type": "code",
   "execution_count": null,
   "id": "ed62a18b",
   "metadata": {},
   "outputs": [],
   "source": [
    "plt.plot(range(1, 15), wcss)\n",
    "plt.title('The Elbow Method')\n",
    "plt.xlabel('Number of clusters')\n",
    "plt.ylabel('WCSS')\n",
    "plt.show()"
   ]
  },
  {
   "cell_type": "code",
   "execution_count": null,
   "id": "359257a1",
   "metadata": {},
   "outputs": [],
   "source": [
    "import seaborn as sns\n",
    "import pil"
   ]
  },
  {
   "cell_type": "code",
   "execution_count": null,
   "id": "7d67c74b",
   "metadata": {},
   "outputs": [],
   "source": [
    "#Silhouette Method\n",
    "from sklearn.metrics import silhouette_score\n",
    "\n",
    "sil = []\n",
    "kmax = 14\n",
    "\n",
    "# dissimilarity would not be defined for a single cluster, thus, minimum number of clusters should be 2\n",
    "for k in range(2, kmax+1):\n",
    "  kmeans = KMeans(n_clusters = k).fit(df1)\n",
    "  labels = kmeans.labels_\n",
    "  sil.append(silhouette_score(df1, labels, metric = 'euclidean'))"
   ]
  },
  {
   "cell_type": "code",
   "execution_count": null,
   "id": "0689a9cc",
   "metadata": {},
   "outputs": [],
   "source": [
    "plt.plot(range(1, 14),sil)\n",
    "plt.title('Silhouette Method')\n",
    "plt.xlabel('Number of clusters')\n",
    "plt.ylabel('Silhouette Coefficient')\n",
    "plt.show()"
   ]
  },
  {
   "cell_type": "code",
   "execution_count": null,
   "id": "5725cb02",
   "metadata": {},
   "outputs": [],
   "source": [
    "#K-Means Clustering using k=6\n",
    "km=KMeans(n_clusters=6)\n",
    "y_pred=km.fit_predict(df1)"
   ]
  },
  {
   "cell_type": "code",
   "execution_count": null,
   "id": "bef15fb2",
   "metadata": {},
   "outputs": [],
   "source": [
    "y_pred"
   ]
  },
  {
   "cell_type": "code",
   "execution_count": null,
   "id": "65cc50dc",
   "metadata": {},
   "outputs": [],
   "source": [
    "df['cluster']=y_pred\n",
    "df.head()"
   ]
  },
  {
   "cell_type": "code",
   "execution_count": null,
   "id": "807c3d95",
   "metadata": {},
   "outputs": [],
   "source": [
    "plt.scatter(df['SrNo'],df['cluster'])\n",
    "#for col in df.columns:\n",
    " #   print(col)"
   ]
  },
  {
   "cell_type": "code",
   "execution_count": null,
   "id": "a6f8da60",
   "metadata": {},
   "outputs": [],
   "source": [
    "#Hierarchical Clustering\n",
    "from scipy.cluster.hierarchy import linkage \n",
    "import scipy.cluster.hierarchy as sch # for creating dendrogram "
   ]
  },
  {
   "cell_type": "code",
   "execution_count": null,
   "id": "fa2ebb69",
   "metadata": {},
   "outputs": [],
   "source": [
    "z = linkage(df1, method=\"complete\",metric=\"euclidean\")"
   ]
  },
  {
   "cell_type": "code",
   "execution_count": null,
   "id": "fcc05a1d",
   "metadata": {},
   "outputs": [],
   "source": [
    "plt.figure(figsize=(15,7))\n",
    "plt.title('Hierarchical Clustering Dendrogram')\n",
    "plt.xlabel('Features')\n",
    "plt.ylabel('Crime')\n",
    "sch.dendrogram(z,\n",
    "    leaf_rotation=0.,  # rotates the x axis labels\n",
    "    leaf_font_size=8.,  # font size for the x axis labels\n",
    ")\n",
    "plt.show()"
   ]
  },
  {
   "cell_type": "code",
   "execution_count": null,
   "id": "ed20af95",
   "metadata": {},
   "outputs": [],
   "source": [
    "#df = pd.read_excel (r'Path where the Excel file is stored\\File name.xlsx', sheet_name='your Excel sheet name')"
   ]
  },
  {
   "cell_type": "code",
   "execution_count": null,
   "id": "ef309c0d",
   "metadata": {},
   "outputs": [],
   "source": [
    "X = df2[['Homicide/Murder','Causing death by negligence','Hurt','Assault on woman','Kidnapping and abduction','Human trafficking ','Rape','Offence against public tranquility','Offences against property','Offences relating to documents and property marks','Miscellaneous','Others']]\n",
    "clusters = KMeans(6)  # 6 clusters\n",
    "clusters.fit( X )\n",
    "clusters.cluster_centers_\n",
    "clusters.labels_\n",
    "df2['Crime_clusters'] = clusters.labels_\n",
    "df2.head()\n",
    "df2.sort_values(by=['Crime_clusters'],ascending = True)\n",
    "X.head()"
   ]
  },
  {
   "cell_type": "code",
   "execution_count": null,
   "id": "e67c31a7",
   "metadata": {},
   "outputs": [],
   "source": [
    "stats =df2.sort_values(\"Hurt\", ascending=True)\n",
    "stats"
   ]
  },
  {
   "cell_type": "code",
   "execution_count": null,
   "id": "bac9afad",
   "metadata": {},
   "outputs": [],
   "source": [
    "sns.lmplot(x='Hurt',y='Assault on woman',data=df2,hue = 'Crime_clusters',fit_reg=False);"
   ]
  },
  {
   "cell_type": "code",
   "execution_count": null,
   "id": "c320e454",
   "metadata": {},
   "outputs": [],
   "source": [
    "sns.lmplot(x='Hurt',y='Rape',data=df2,hue = 'Crime_clusters',fit_reg=False);"
   ]
  },
  {
   "cell_type": "code",
   "execution_count": null,
   "id": "99ff7c3b",
   "metadata": {},
   "outputs": [],
   "source": [
    "sns.lmplot(x='Assault on woman',y='Rape',data=df2,hue = 'Crime_clusters',fit_reg=False);"
   ]
  },
  {
   "cell_type": "code",
   "execution_count": null,
   "id": "8c16b786",
   "metadata": {},
   "outputs": [],
   "source": [
    "sns.lmplot(x='Kidnapping and abduction',y='Human trafficking ',data=df2,hue = 'Crime_clusters',fit_reg=False);"
   ]
  },
  {
   "cell_type": "code",
   "execution_count": null,
   "id": "d5d2cde6",
   "metadata": {},
   "outputs": [],
   "source": [
    "sns.lmplot(x='Hurt',y='Homicide/Murder',data=df2,hue = 'Crime_clusters',fit_reg=False);"
   ]
  },
  {
   "cell_type": "code",
   "execution_count": null,
   "id": "4d67ef4a",
   "metadata": {},
   "outputs": [],
   "source": [
    "sns.pairplot(data,hue='cluster')"
   ]
  },
  {
   "cell_type": "code",
   "execution_count": null,
   "id": "63bededa",
   "metadata": {},
   "outputs": [],
   "source": [
    "df3 = pd.DataFrame(data=df2, columns=['Hurt', 'Homicide/Murder', 'Kidnapping and abduction'])\n",
    "df3.plot.kde()\n",
    "#kernel density estimate (KDE) plot is a method for visualizing the distribution of observations in a dataset"
   ]
  },
  {
   "cell_type": "code",
   "execution_count": null,
   "id": "b96c3261",
   "metadata": {},
   "outputs": [],
   "source": [
    "df2.head()"
   ]
  },
  {
   "cell_type": "code",
   "execution_count": null,
   "id": "43665ad9",
   "metadata": {},
   "outputs": [],
   "source": [
    "a1=data['Hurt']\n",
    "b1=data['District']\n",
    "f = plt.figure()\n",
    "f.set_figwidth(10)\n",
    "f.set_figheight(10)\n",
    "plt.barh(b1, a1, align='center', alpha=0.5)\n",
    "plt.ylabel('District')\n",
    "plt.title('Top District with highest Crime rates')\n",
    "plt.show()"
   ]
  },
  {
   "cell_type": "code",
   "execution_count": null,
   "id": "0a47e558",
   "metadata": {},
   "outputs": [],
   "source": [
    "#Cluster plotting of crime vs crime/diff metrics\n",
    "df=pd.read_excel(r'DataFinal17-20.xlsx',sheet_name='2020')\n",
    "df2=df.iloc[:,2:23]\n",
    "for i in range(len(df2.columns)-1):\n",
    "    titles=df2.columns[i]+\" vs \\n\"+df2.columns[i+1]\n",
    "    plt.figure(i)\n",
    "    sns.lmplot(x=df2.columns[i],y=df2.columns[i+1],data=df2,hue=\"cluster\",legend=1,fit_reg=False).set(title=titles)\n"
   ]
  },
  {
   "cell_type": "code",
   "execution_count": null,
   "id": "ad97da14",
   "metadata": {},
   "outputs": [],
   "source": [
    "#District vs Crime in 4 yrs\n",
    "df=pd.read_excel(r'DataFinal17-20.xlsx',sheet_name='practice')\n",
    "df2=df.iloc[:,0:6]\n",
    "years=[2017,2018,2019,2020]\n",
    "Districts=df['District'].unique()\n",
    "Crimes=df['Crime'].unique()\n",
    "for district in Districts:\n",
    "    fig=plt.figure(figsize=(20,10),dpi=80,facecolor='w',edgecolor='k')\n",
    "    plt.title(district)\n",
    "    plt.xlabel('Years')\n",
    "    plt.ylabel('No. Of Cases')\n",
    "    for case in Crimes:\n",
    "        temp_df=df[(df['District']==district)&(df['Crime']==case)]\n",
    "        N_cases=[temp_df[c].values[0] for c in years]\n",
    "        plt.plot(years,N_cases)\n",
    "        plt.legend(Crimes)"
   ]
  },
  {
   "cell_type": "code",
   "execution_count": null,
   "id": "b012b782",
   "metadata": {},
   "outputs": [],
   "source": [
    "#Crime vs Time(4yrs) for all district\n",
    "for Crime in Crimes:\n",
    "    fig=plt.figure(figsize=(20,10),dpi=80,facecolor='w',edgecolor='k')\n",
    "    plt.title(Crime)\n",
    "    plt.xlabel('Years')\n",
    "    plt.ylabel('No. Of Cases')\n",
    "    for district in Districts:\n",
    "        temp_df=df[(df['District']==district)&(df['Crime']==Crime)]\n",
    "        N_cases=[temp_df[c].values[0] for c in years]\n",
    "        plt.plot(years,N_cases)\n",
    "        plt.legend(Districts)"
   ]
  },
  {
   "cell_type": "code",
   "execution_count": null,
   "id": "ad99555a",
   "metadata": {},
   "outputs": [],
   "source": []
  },
  {
   "cell_type": "code",
   "execution_count": null,
   "id": "e7e14910",
   "metadata": {},
   "outputs": [],
   "source": []
  }
 ],
 "metadata": {
  "kernelspec": {
   "display_name": "Python 3 (ipykernel)",
   "language": "python",
   "name": "python3"
  },
  "language_info": {
   "codemirror_mode": {
    "name": "ipython",
    "version": 3
   },
   "file_extension": ".py",
   "mimetype": "text/x-python",
   "name": "python",
   "nbconvert_exporter": "python",
   "pygments_lexer": "ipython3",
   "version": "3.11.0"
  },
  "vscode": {
   "interpreter": {
    "hash": "43972cab619b55ea9d63321d18bd0a8d9b574a0a3e89ad4f59bee985cd643a8d"
   }
  }
 },
 "nbformat": 4,
 "nbformat_minor": 5
}
